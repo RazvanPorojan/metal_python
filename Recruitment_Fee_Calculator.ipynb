{
  "nbformat": 4,
  "nbformat_minor": 0,
  "metadata": {
    "colab": {
      "name": "Recruitment Fee Calculator",
      "provenance": [],
      "collapsed_sections": [],
      "authorship_tag": "ABX9TyOuRsRj9ZUCsVr0IgEJ5ebr",
      "include_colab_link": true
    },
    "kernelspec": {
      "name": "python3",
      "display_name": "Python 3"
    },
    "accelerator": "GPU"
  },
  "cells": [
    {
      "cell_type": "markdown",
      "metadata": {
        "id": "view-in-github",
        "colab_type": "text"
      },
      "source": [
        "<a href=\"https://colab.research.google.com/github/RazvanPorojan/metal_python/blob/master/Recruitment_Fee_Calculator.ipynb\" target=\"_parent\"><img src=\"https://colab.research.google.com/assets/colab-badge.svg\" alt=\"Open In Colab\"/></a>"
      ]
    },
    {
      "cell_type": "markdown",
      "metadata": {
        "id": "Vdzy2R6SI55U",
        "colab_type": "text"
      },
      "source": [
        "Import libraries"
      ]
    },
    {
      "cell_type": "code",
      "metadata": {
        "id": "7D3CPVpPIBr9",
        "colab_type": "code",
        "colab": {}
      },
      "source": [
        "import tensorflow as tf\n",
        "from tensorflow import keras\n",
        "import numpy as np\n",
        "import pandas as pd\n",
        "from keras.models import model_from_json\n",
        "import numpy\n",
        "\n",
        "%matplotlib inline\n",
        "import matplotlib.pyplot as plt\n",
        "from IPython.display import clear_output\n",
        "\n",
        "from sklearn.linear_model import LinearRegression\n",
        "from sklearn import metrics"
      ],
      "execution_count": 0,
      "outputs": []
    },
    {
      "cell_type": "markdown",
      "metadata": {
        "id": "ZXLnoDBaI1wo",
        "colab_type": "text"
      },
      "source": [
        "Load Data"
      ]
    },
    {
      "cell_type": "code",
      "metadata": {
        "id": "2XwAHFHIJCVW",
        "colab_type": "code",
        "outputId": "82bd33a1-6cb4-4d9d-efd4-0a040be2d9bf",
        "colab": {
          "base_uri": "https://localhost:8080/",
          "height": 314
        }
      },
      "source": [
        "data = pd.read_csv(\"target_calc.csv\")\n",
        "data.head(10)\n"
      ],
      "execution_count": 91,
      "outputs": [
        {
          "output_type": "execute_result",
          "data": {
            "text/html": [
              "<div>\n",
              "<style scoped>\n",
              "    .dataframe tbody tr th:only-of-type {\n",
              "        vertical-align: middle;\n",
              "    }\n",
              "\n",
              "    .dataframe tbody tr th {\n",
              "        vertical-align: top;\n",
              "    }\n",
              "\n",
              "    .dataframe thead th {\n",
              "        text-align: right;\n",
              "    }\n",
              "</style>\n",
              "<table border=\"1\" class=\"dataframe\">\n",
              "  <thead>\n",
              "    <tr style=\"text-align: right;\">\n",
              "      <th></th>\n",
              "      <th>closed</th>\n",
              "      <th>good_cv</th>\n",
              "      <th>nda</th>\n",
              "      <th>jobs</th>\n",
              "      <th>pay</th>\n",
              "    </tr>\n",
              "  </thead>\n",
              "  <tbody>\n",
              "    <tr>\n",
              "      <th>0</th>\n",
              "      <td>0</td>\n",
              "      <td>4</td>\n",
              "      <td>0</td>\n",
              "      <td>3</td>\n",
              "      <td>1.35</td>\n",
              "    </tr>\n",
              "    <tr>\n",
              "      <th>1</th>\n",
              "      <td>0</td>\n",
              "      <td>7</td>\n",
              "      <td>1</td>\n",
              "      <td>4</td>\n",
              "      <td>2.05</td>\n",
              "    </tr>\n",
              "    <tr>\n",
              "      <th>2</th>\n",
              "      <td>1</td>\n",
              "      <td>10</td>\n",
              "      <td>1</td>\n",
              "      <td>7</td>\n",
              "      <td>3.35</td>\n",
              "    </tr>\n",
              "    <tr>\n",
              "      <th>3</th>\n",
              "      <td>2</td>\n",
              "      <td>20</td>\n",
              "      <td>2</td>\n",
              "      <td>10</td>\n",
              "      <td>5.50</td>\n",
              "    </tr>\n",
              "    <tr>\n",
              "      <th>4</th>\n",
              "      <td>3</td>\n",
              "      <td>20</td>\n",
              "      <td>2</td>\n",
              "      <td>10</td>\n",
              "      <td>6.50</td>\n",
              "    </tr>\n",
              "    <tr>\n",
              "      <th>5</th>\n",
              "      <td>4</td>\n",
              "      <td>20</td>\n",
              "      <td>4</td>\n",
              "      <td>10</td>\n",
              "      <td>8.50</td>\n",
              "    </tr>\n",
              "    <tr>\n",
              "      <th>6</th>\n",
              "      <td>5</td>\n",
              "      <td>22</td>\n",
              "      <td>4</td>\n",
              "      <td>10</td>\n",
              "      <td>9.60</td>\n",
              "    </tr>\n",
              "    <tr>\n",
              "      <th>7</th>\n",
              "      <td>1</td>\n",
              "      <td>20</td>\n",
              "      <td>4</td>\n",
              "      <td>10</td>\n",
              "      <td>5.50</td>\n",
              "    </tr>\n",
              "    <tr>\n",
              "      <th>8</th>\n",
              "      <td>3</td>\n",
              "      <td>30</td>\n",
              "      <td>4</td>\n",
              "      <td>10</td>\n",
              "      <td>8.00</td>\n",
              "    </tr>\n",
              "  </tbody>\n",
              "</table>\n",
              "</div>"
            ],
            "text/plain": [
              "   closed  good_cv  nda  jobs   pay\n",
              "0       0        4    0     3  1.35\n",
              "1       0        7    1     4  2.05\n",
              "2       1       10    1     7  3.35\n",
              "3       2       20    2    10  5.50\n",
              "4       3       20    2    10  6.50\n",
              "5       4       20    4    10  8.50\n",
              "6       5       22    4    10  9.60\n",
              "7       1       20    4    10  5.50\n",
              "8       3       30    4    10  8.00"
            ]
          },
          "metadata": {
            "tags": []
          },
          "execution_count": 91
        }
      ]
    },
    {
      "cell_type": "code",
      "metadata": {
        "id": "Y_zGk2AscuVz",
        "colab_type": "code",
        "outputId": "46ffbe07-e58b-4c48-89f4-df131972ebc0",
        "colab": {
          "base_uri": "https://localhost:8080/",
          "height": 118
        }
      },
      "source": [
        "data.dtypes"
      ],
      "execution_count": 25,
      "outputs": [
        {
          "output_type": "execute_result",
          "data": {
            "text/plain": [
              "closed       int64\n",
              "good_cv      int64\n",
              "nda          int64\n",
              "jobs         int64\n",
              "pay        float64\n",
              "dtype: object"
            ]
          },
          "metadata": {
            "tags": []
          },
          "execution_count": 25
        }
      ]
    },
    {
      "cell_type": "code",
      "metadata": {
        "id": "Sv27Iz7h3x6N",
        "colab_type": "code",
        "outputId": "de6eef8d-9beb-4be1-fdf8-4cd15690f4dc",
        "colab": {
          "base_uri": "https://localhost:8080/",
          "height": 284
        }
      },
      "source": [
        "data.describe()"
      ],
      "execution_count": 76,
      "outputs": [
        {
          "output_type": "execute_result",
          "data": {
            "text/html": [
              "<div>\n",
              "<style scoped>\n",
              "    .dataframe tbody tr th:only-of-type {\n",
              "        vertical-align: middle;\n",
              "    }\n",
              "\n",
              "    .dataframe tbody tr th {\n",
              "        vertical-align: top;\n",
              "    }\n",
              "\n",
              "    .dataframe thead th {\n",
              "        text-align: right;\n",
              "    }\n",
              "</style>\n",
              "<table border=\"1\" class=\"dataframe\">\n",
              "  <thead>\n",
              "    <tr style=\"text-align: right;\">\n",
              "      <th></th>\n",
              "      <th>closed</th>\n",
              "      <th>good_cv</th>\n",
              "      <th>nda</th>\n",
              "      <th>jobs</th>\n",
              "      <th>pay</th>\n",
              "    </tr>\n",
              "  </thead>\n",
              "  <tbody>\n",
              "    <tr>\n",
              "      <th>count</th>\n",
              "      <td>9.000000</td>\n",
              "      <td>9.000000</td>\n",
              "      <td>9.000000</td>\n",
              "      <td>9.000000</td>\n",
              "      <td>9.000000</td>\n",
              "    </tr>\n",
              "    <tr>\n",
              "      <th>mean</th>\n",
              "      <td>2.111111</td>\n",
              "      <td>17.000000</td>\n",
              "      <td>2.444444</td>\n",
              "      <td>8.222222</td>\n",
              "      <td>5.594444</td>\n",
              "    </tr>\n",
              "    <tr>\n",
              "      <th>std</th>\n",
              "      <td>1.763834</td>\n",
              "      <td>8.276473</td>\n",
              "      <td>1.589899</td>\n",
              "      <td>2.862594</td>\n",
              "      <td>2.888062</td>\n",
              "    </tr>\n",
              "    <tr>\n",
              "      <th>min</th>\n",
              "      <td>0.000000</td>\n",
              "      <td>4.000000</td>\n",
              "      <td>0.000000</td>\n",
              "      <td>3.000000</td>\n",
              "      <td>1.350000</td>\n",
              "    </tr>\n",
              "    <tr>\n",
              "      <th>25%</th>\n",
              "      <td>1.000000</td>\n",
              "      <td>10.000000</td>\n",
              "      <td>1.000000</td>\n",
              "      <td>7.000000</td>\n",
              "      <td>3.350000</td>\n",
              "    </tr>\n",
              "    <tr>\n",
              "      <th>50%</th>\n",
              "      <td>2.000000</td>\n",
              "      <td>20.000000</td>\n",
              "      <td>2.000000</td>\n",
              "      <td>10.000000</td>\n",
              "      <td>5.500000</td>\n",
              "    </tr>\n",
              "    <tr>\n",
              "      <th>75%</th>\n",
              "      <td>3.000000</td>\n",
              "      <td>20.000000</td>\n",
              "      <td>4.000000</td>\n",
              "      <td>10.000000</td>\n",
              "      <td>8.000000</td>\n",
              "    </tr>\n",
              "    <tr>\n",
              "      <th>max</th>\n",
              "      <td>5.000000</td>\n",
              "      <td>30.000000</td>\n",
              "      <td>4.000000</td>\n",
              "      <td>10.000000</td>\n",
              "      <td>9.600000</td>\n",
              "    </tr>\n",
              "  </tbody>\n",
              "</table>\n",
              "</div>"
            ],
            "text/plain": [
              "         closed    good_cv       nda       jobs       pay\n",
              "count  9.000000   9.000000  9.000000   9.000000  9.000000\n",
              "mean   2.111111  17.000000  2.444444   8.222222  5.594444\n",
              "std    1.763834   8.276473  1.589899   2.862594  2.888062\n",
              "min    0.000000   4.000000  0.000000   3.000000  1.350000\n",
              "25%    1.000000  10.000000  1.000000   7.000000  3.350000\n",
              "50%    2.000000  20.000000  2.000000  10.000000  5.500000\n",
              "75%    3.000000  20.000000  4.000000  10.000000  8.000000\n",
              "max    5.000000  30.000000  4.000000  10.000000  9.600000"
            ]
          },
          "metadata": {
            "tags": []
          },
          "execution_count": 76
        }
      ]
    },
    {
      "cell_type": "markdown",
      "metadata": {
        "id": "SU6XUv5s4r9y",
        "colab_type": "text"
      },
      "source": [
        "Plot Data"
      ]
    },
    {
      "cell_type": "code",
      "metadata": {
        "id": "nDu3zgLX4tSc",
        "colab_type": "code",
        "colab": {
          "base_uri": "https://localhost:8080/",
          "height": 294
        },
        "outputId": "8590acc3-5535-49ca-f59a-36934dc0749b"
      },
      "source": [
        "data.plot(x='closed', y='pay', style='o')  \n",
        "plt.title('Graph')  \n",
        "plt.xlabel('closed')  \n",
        "plt.ylabel('pay')  \n",
        "plt.show()"
      ],
      "execution_count": 77,
      "outputs": [
        {
          "output_type": "display_data",
          "data": {
            "image/png": "[encoded data removed]",
            "text/plain": [
              "<Figure size 432x288 with 1 Axes>"
            ]
          },
          "metadata": {
            "tags": [],
            "needs_background": "light"
          }
        }
      ]
    },
    {
      "cell_type": "code",
      "metadata": {
        "id": "g2NAbZYJsqHU",
        "colab_type": "code",
        "colab": {}
      },
      "source": [
        "class TrainingPlot(keras.callbacks.Callback):\n",
        "    \n",
        "    # This function is called when the training begins\n",
        "    def on_train_begin(self, logs={}):\n",
        "        # Initialize the lists for holding the logs, losses and accuracies\n",
        "        self.losses = []\n",
        "        #self.acc = []\n",
        "        #self.val_losses = []\n",
        "        #self.val_acc = []\n",
        "        self.logs = []\n",
        "    \n",
        "    # This function is called at the end of each epoch\n",
        "    def on_epoch_end(self, epoch, logs={}):\n",
        "        \n",
        "        # Append the logs, losses and accuracies to the lists\n",
        "        self.logs.append(logs)\n",
        "        self.losses.append(logs.get('loss'))\n",
        "        #self.acc.append(logs.get('acc'))\n",
        "        #self.val_losses.append(logs.get('val_loss'))\n",
        "        #self.val_acc.append(logs.get('val_acc'))\n",
        "        \n",
        "        # Before plotting ensure at least 2 epochs have passed\n",
        "        if len(self.losses) > 1:\n",
        "            \n",
        "            # Clear the previous plot\n",
        "            clear_output(wait=True)\n",
        "            N = np.arange(0, len(self.losses))\n",
        "            \n",
        "            # You can chose the style of your preference\n",
        "            # print(plt.style.available) to see the available options\n",
        "            plt.style.use(\"seaborn\")\n",
        "            \n",
        "            # Plot train loss, train acc, val loss and val acc against epochs passed\n",
        "            plt.figure()\n",
        "            plt.plot(N, self.losses, label = \"train_loss\")\n",
        "            #plt.plot(N, self.acc, label = \"train_acc\")\n",
        "            #plt.plot(N, self.val_losses, label = \"val_loss\")\n",
        "            #plt.plot(N, self.val_acc, label = \"val_acc\")\n",
        "            plt.title(\"Training Loss and Accuracy [Epoch {}]\".format(epoch))\n",
        "            plt.xlabel(\"Epoch #\")\n",
        "            plt.ylabel(\"Loss/Accuracy\")\n",
        "            plt.legend()\n",
        "            plt.show()\n",
        "\n",
        "plot_losses = TrainingPlot()"
      ],
      "execution_count": 0,
      "outputs": []
    },
    {
      "cell_type": "markdown",
      "metadata": {
        "id": "Kxk7bfVMaHu2",
        "colab_type": "text"
      },
      "source": [
        "Define input and output - Are Xs really independent?"
      ]
    },
    {
      "cell_type": "code",
      "metadata": {
        "id": "VIkj29GXaKsP",
        "colab_type": "code",
        "colab": {}
      },
      "source": [
        "xs = data[[\"closed\",\"good_cv\",\"nda\",\"jobs\"]].to_numpy()\n",
        "ys = data[[\"pay\"]].to_numpy()\n",
        "#print(xs)\n",
        "#print(\"---\")\n",
        "#print(ys)"
      ],
      "execution_count": 0,
      "outputs": []
    },
    {
      "cell_type": "markdown",
      "metadata": {
        "id": "jCy21LR6I4Qk",
        "colab_type": "text"
      },
      "source": [
        "Define Keras Model - one neuron"
      ]
    },
    {
      "cell_type": "code",
      "metadata": {
        "id": "GHKWs9GbZQ0_",
        "colab_type": "code",
        "outputId": "8aebf1df-63d0-4712-a112-bd43f865008a",
        "colab": {
          "base_uri": "https://localhost:8080/",
          "height": 202
        }
      },
      "source": [
        "#model = tf.keras.Sequential([keras.layers.Dense(units=1, input_shape=[4])])\n",
        "#model.compile(optimizer='sgd', loss='mean_squared_error')\n",
        "\n",
        "model = tf.keras.Sequential()\n",
        "\n",
        "model.add(keras.layers.Dense(1, input_dim=4, activation='relu'))\n",
        "#model.add(keras.layers.Dense(1, kernel_initializer='normal'))\n",
        "\n",
        "sgd = tf.keras.optimizers.SGD(lr=0.01, decay=1e-6, momentum=0.9, nesterov=True)\n",
        "#sgd = optimizers.SGD(lr=0.01, decay=1e-6, momentum=0.9, nesterov=True)\n",
        "\n",
        "\n",
        "\n",
        "# Compile model\n",
        "model.compile(loss='mean_squared_error', optimizer=\"sgd\")\n",
        "print(model.summary())\n"
      ],
      "execution_count": 35,
      "outputs": [
        {
          "output_type": "stream",
          "text": [
            "Model: \"sequential_5\"\n",
            "_________________________________________________________________\n",
            "Layer (type)                 Output Shape              Param #   \n",
            "=================================================================\n",
            "dense_6 (Dense)              (None, 1)                 5         \n",
            "=================================================================\n",
            "Total params: 5\n",
            "Trainable params: 5\n",
            "Non-trainable params: 0\n",
            "_________________________________________________________________\n",
            "None\n"
          ],
          "name": "stdout"
        }
      ]
    },
    {
      "cell_type": "markdown",
      "metadata": {
        "id": "WKUvMzt66MMM",
        "colab_type": "text"
      },
      "source": [
        "or Alternate Deep Model"
      ]
    },
    {
      "cell_type": "code",
      "metadata": {
        "id": "t5DVg4L66GI2",
        "colab_type": "code",
        "colab": {
          "base_uri": "https://localhost:8080/",
          "height": 235
        },
        "outputId": "1c9b5280-a95a-4ad0-c902-4a2f564bd689"
      },
      "source": [
        "model = tf.keras.Sequential()\n",
        "model.add(keras.layers.Dense(4, input_dim=4, kernel_initializer='normal', activation='relu'))\n",
        "model.add(keras.layers.Dense(1, kernel_initializer='normal'))\n",
        "model.compile(loss='mean_squared_error', optimizer='adam')\n",
        "print(model.summary())"
      ],
      "execution_count": 80,
      "outputs": [
        {
          "output_type": "stream",
          "text": [
            "Model: \"sequential_7\"\n",
            "_________________________________________________________________\n",
            "Layer (type)                 Output Shape              Param #   \n",
            "=================================================================\n",
            "dense_9 (Dense)              (None, 4)                 20        \n",
            "_________________________________________________________________\n",
            "dense_10 (Dense)             (None, 1)                 5         \n",
            "=================================================================\n",
            "Total params: 25\n",
            "Trainable params: 25\n",
            "Non-trainable params: 0\n",
            "_________________________________________________________________\n",
            "None\n"
          ],
          "name": "stdout"
        }
      ]
    },
    {
      "cell_type": "markdown",
      "metadata": {
        "id": "8l9JD6AAZwC3",
        "colab_type": "text"
      },
      "source": [
        "Train Model"
      ]
    },
    {
      "cell_type": "code",
      "metadata": {
        "id": "HMpVhGBfaL4Y",
        "colab_type": "code",
        "outputId": "52adc173-af89-400f-f988-a5e14d8e4c8d",
        "colab": {
          "base_uri": "https://localhost:8080/",
          "height": 410
        }
      },
      "source": [
        "model.fit(xs, ys, epochs=500, callbacks=[plot_losses])"
      ],
      "execution_count": 81,
      "outputs": [
        {
          "output_type": "display_data",
          "data": {
            "image/png": "[encoded data removed]",
            "text/plain": [
              "<Figure size 576x396 with 1 Axes>"
            ]
          },
          "metadata": {
            "tags": []
          }
        },
        {
          "output_type": "stream",
          "text": [
            "\b\b\b\b\b\b\b\b\b\b\b\b\b\b\b\b\b\b\b\b\b\b\b\b\b\b\b\b\b\b\b\b\b\b\b\b\b\b\b\b\b\b\b\b\b\b\b\b\b\b\b\b\b\b\b\b\b\b\b\b\b\r1/1 [==============================] - 0s 218ms/step - loss: 0.9158\n"
          ],
          "name": "stdout"
        },
        {
          "output_type": "execute_result",
          "data": {
            "text/plain": [
              "<tensorflow.python.keras.callbacks.History at 0x7f73c76a4b00>"
            ]
          },
          "metadata": {
            "tags": []
          },
          "execution_count": 81
        }
      ]
    },
    {
      "cell_type": "markdown",
      "metadata": {
        "id": "CP1AwME3Eehf",
        "colab_type": "text"
      },
      "source": [
        "Scikit Learn"
      ]
    },
    {
      "cell_type": "code",
      "metadata": {
        "id": "Oq3pdSVkEgYK",
        "colab_type": "code",
        "colab": {
          "base_uri": "https://localhost:8080/",
          "height": 34
        },
        "outputId": "d703ee09-2053-4f23-9f7f-90067a0bf32c"
      },
      "source": [
        "regressor = LinearRegression()  \n",
        "regressor.fit(xs, ys)"
      ],
      "execution_count": 82,
      "outputs": [
        {
          "output_type": "execute_result",
          "data": {
            "text/plain": [
              "LinearRegression(copy_X=True, fit_intercept=True, n_jobs=None, normalize=False)"
            ]
          },
          "metadata": {
            "tags": []
          },
          "execution_count": 82
        }
      ]
    },
    {
      "cell_type": "code",
      "metadata": {
        "id": "ngYcagj0MERQ",
        "colab_type": "code",
        "colab": {
          "base_uri": "https://localhost:8080/",
          "height": 34
        },
        "outputId": "3261a7df-07c3-46bf-fda1-be6a18c7f157"
      },
      "source": [
        "regressor.coef_[0]"
      ],
      "execution_count": 90,
      "outputs": [
        {
          "output_type": "execute_result",
          "data": {
            "text/plain": [
              "array([1.  , 0.05, 0.5 , 0.05])"
            ]
          },
          "metadata": {
            "tags": []
          },
          "execution_count": 90
        }
      ]
    },
    {
      "cell_type": "code",
      "metadata": {
        "id": "ORnhf7ZfMpJt",
        "colab_type": "code",
        "outputId": "10e8191b-13b2-43e8-8b20-599e3a57c50f",
        "colab": {
          "base_uri": "https://localhost:8080/",
          "height": 202
        }
      },
      "source": [
        "model.get_weights()"
      ],
      "execution_count": 83,
      "outputs": [
        {
          "output_type": "execute_result",
          "data": {
            "text/plain": [
              "[array([[ 0.27468514,  0.36486048,  0.01113618,  0.03273553],\n",
              "        [ 0.27314603,  0.31219876, -0.05393312, -0.00808537],\n",
              "        [ 0.27995622,  0.24764524,  0.09212486,  0.095858  ],\n",
              "        [ 0.23389894,  0.28018194, -0.03716088, -0.04149261]],\n",
              "       dtype=float32),\n",
              " array([0.2392375 , 0.26500317, 0.        , 0.        ], dtype=float32),\n",
              " array([[ 0.34290195],\n",
              "        [ 0.29623398],\n",
              "        [-0.07220574],\n",
              "        [-0.00739691]], dtype=float32),\n",
              " array([0.16785799], dtype=float32)]"
            ]
          },
          "metadata": {
            "tags": []
          },
          "execution_count": 83
        }
      ]
    },
    {
      "cell_type": "markdown",
      "metadata": {
        "id": "1PVn0YW6iAwZ",
        "colab_type": "text"
      },
      "source": [
        "Load Ideal Weights for Single Neuron - Problem how to get this weights with Deep Network?"
      ]
    },
    {
      "cell_type": "code",
      "metadata": {
        "id": "W2KdEuzOiDfZ",
        "colab_type": "code",
        "colab": {}
      },
      "source": [
        "ideal = [np.array([[ 1.0  ],\n",
        "        [0.05],\n",
        "        [ 0.5],\n",
        "        [ 0.05]], dtype=\"float32\"), np.array([1.0], dtype=\"float32\")]\n",
        "model.set_weights(ideal)"
      ],
      "execution_count": 0,
      "outputs": []
    },
    {
      "cell_type": "code",
      "metadata": {
        "id": "ffXolp2DFJK8",
        "colab_type": "code",
        "colab": {}
      },
      "source": [
        "test_x=[[ 0.0,4.0,0.0,3.0],\n",
        "[ 0.0,7.0,1.0,4.0],\n",
        "[ 1.0,10.0,1.0,7.0],\n",
        "[ 2.0,20.0,2.0,10.0],\n",
        "[ 4.0,20.0,4.0,10.0],\n",
        "[ 3.0,30.0,4.0,10.0]]\n",
        "\n",
        "test_y = [1.35,\n",
        "2.05,\n",
        "3.35,\n",
        "5.5,\n",
        "8.5,\n",
        "8]"
      ],
      "execution_count": 0,
      "outputs": []
    },
    {
      "cell_type": "code",
      "metadata": {
        "id": "FcW3TApKF3-m",
        "colab_type": "code",
        "colab": {}
      },
      "source": [
        "nn_pred =model.predict(test_x)"
      ],
      "execution_count": 0,
      "outputs": []
    },
    {
      "cell_type": "code",
      "metadata": {
        "id": "eL5_rxYGGGA6",
        "colab_type": "code",
        "colab": {}
      },
      "source": [
        "sk_pred = regressor.predict(test_x)"
      ],
      "execution_count": 0,
      "outputs": []
    },
    {
      "cell_type": "code",
      "metadata": {
        "id": "pw5V64C0GXzf",
        "colab_type": "code",
        "colab": {
          "base_uri": "https://localhost:8080/",
          "height": 225
        },
        "outputId": "c2a5916c-ea53-417f-a260-ab84b4ce8104"
      },
      "source": [
        "df = pd.DataFrame({'Actual': test_y, 'NN Predicted': nn_pred.squeeze(), \"SK Predicted\": sk_pred.squeeze()})\n",
        "df.head(6)"
      ],
      "execution_count": 87,
      "outputs": [
        {
          "output_type": "execute_result",
          "data": {
            "text/html": [
              "<div>\n",
              "<style scoped>\n",
              "    .dataframe tbody tr th:only-of-type {\n",
              "        vertical-align: middle;\n",
              "    }\n",
              "\n",
              "    .dataframe tbody tr th {\n",
              "        vertical-align: top;\n",
              "    }\n",
              "\n",
              "    .dataframe thead th {\n",
              "        text-align: right;\n",
              "    }\n",
              "</style>\n",
              "<table border=\"1\" class=\"dataframe\">\n",
              "  <thead>\n",
              "    <tr style=\"text-align: right;\">\n",
              "      <th></th>\n",
              "      <th>Actual</th>\n",
              "      <th>NN Predicted</th>\n",
              "      <th>SK Predicted</th>\n",
              "    </tr>\n",
              "  </thead>\n",
              "  <tbody>\n",
              "    <tr>\n",
              "      <th>0</th>\n",
              "      <td>1.35</td>\n",
              "      <td>1.562592</td>\n",
              "      <td>1.35</td>\n",
              "    </tr>\n",
              "    <tr>\n",
              "      <th>1</th>\n",
              "      <td>2.05</td>\n",
              "      <td>2.453593</td>\n",
              "      <td>2.05</td>\n",
              "    </tr>\n",
              "    <tr>\n",
              "      <th>2</th>\n",
              "      <td>3.35</td>\n",
              "      <td>3.703917</td>\n",
              "      <td>3.35</td>\n",
              "    </tr>\n",
              "    <tr>\n",
              "      <th>3</th>\n",
              "      <td>5.50</td>\n",
              "      <td>6.426623</td>\n",
              "      <td>5.50</td>\n",
              "    </tr>\n",
              "    <tr>\n",
              "      <th>4</th>\n",
              "      <td>8.50</td>\n",
              "      <td>7.169888</td>\n",
              "      <td>8.50</td>\n",
              "    </tr>\n",
              "    <tr>\n",
              "      <th>5</th>\n",
              "      <td>8.00</td>\n",
              "      <td>8.829077</td>\n",
              "      <td>8.00</td>\n",
              "    </tr>\n",
              "  </tbody>\n",
              "</table>\n",
              "</div>"
            ],
            "text/plain": [
              "   Actual  NN Predicted  SK Predicted\n",
              "0    1.35      1.562592          1.35\n",
              "1    2.05      2.453593          2.05\n",
              "2    3.35      3.703917          3.35\n",
              "3    5.50      6.426623          5.50\n",
              "4    8.50      7.169888          8.50\n",
              "5    8.00      8.829077          8.00"
            ]
          },
          "metadata": {
            "tags": []
          },
          "execution_count": 87
        }
      ]
    }
  ]
}