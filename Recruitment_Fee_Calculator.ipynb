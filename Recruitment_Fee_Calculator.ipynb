{
  "nbformat": 4,
  "nbformat_minor": 0,
  "metadata": {
    "colab": {
      "name": "Recruitment Fee Calculator",
      "provenance": [],
      "authorship_tag": "ABX9TyP1mGS8QxWuC3nLItxFMirs",
      "include_colab_link": true
    },
    "kernelspec": {
      "name": "python3",
      "display_name": "Python 3"
    },
    "accelerator": "GPU"
  },
  "cells": [
    {
      "cell_type": "markdown",
      "metadata": {
        "id": "view-in-github",
        "colab_type": "text"
      },
      "source": [
        "<a href=\"https://colab.research.google.com/github/RazvanPorojan/metal_python/blob/master/Recruitment_Fee_Calculator.ipynb\" target=\"_parent\"><img src=\"https://colab.research.google.com/assets/colab-badge.svg\" alt=\"Open In Colab\"/></a>"
      ]
    },
    {
      "cell_type": "markdown",
      "metadata": {
        "id": "Vdzy2R6SI55U",
        "colab_type": "text"
      },
      "source": [
        "Import libraries"
      ]
    },
    {
      "cell_type": "code",
      "metadata": {
        "id": "7D3CPVpPIBr9",
        "colab_type": "code",
        "colab": {
          "base_uri": "https://localhost:8080/",
          "height": 34
        },
        "outputId": "3bc23ec0-7aa5-4150-89d4-871e0cfb1453"
      },
      "source": [
        "import tensorflow as tf\n",
        "from tensorflow import keras\n",
        "import numpy as np\n",
        "import pandas as pd\n",
        "from keras.models import model_from_json\n",
        "import numpy"
      ],
      "execution_count": 1,
      "outputs": [
        {
          "output_type": "stream",
          "text": [
            "Using TensorFlow backend.\n"
          ],
          "name": "stderr"
        }
      ]
    },
    {
      "cell_type": "markdown",
      "metadata": {
        "id": "ZXLnoDBaI1wo",
        "colab_type": "text"
      },
      "source": [
        "Load Data"
      ]
    },
    {
      "cell_type": "code",
      "metadata": {
        "id": "2XwAHFHIJCVW",
        "colab_type": "code",
        "outputId": "c4c872fd-7327-4471-be81-bf937aa0a1dd",
        "colab": {
          "base_uri": "https://localhost:8080/",
          "height": 195
        }
      },
      "source": [
        "data = pd.read_csv(\"target_calc.csv\")\n",
        "data.head()\n"
      ],
      "execution_count": 2,
      "outputs": [
        {
          "output_type": "execute_result",
          "data": {
            "text/html": [
              "<div>\n",
              "<style scoped>\n",
              "    .dataframe tbody tr th:only-of-type {\n",
              "        vertical-align: middle;\n",
              "    }\n",
              "\n",
              "    .dataframe tbody tr th {\n",
              "        vertical-align: top;\n",
              "    }\n",
              "\n",
              "    .dataframe thead th {\n",
              "        text-align: right;\n",
              "    }\n",
              "</style>\n",
              "<table border=\"1\" class=\"dataframe\">\n",
              "  <thead>\n",
              "    <tr style=\"text-align: right;\">\n",
              "      <th></th>\n",
              "      <th>deals_closed</th>\n",
              "      <th>good_cvs</th>\n",
              "      <th>signed_ndas</th>\n",
              "      <th>worked_jobs</th>\n",
              "      <th>payment</th>\n",
              "    </tr>\n",
              "  </thead>\n",
              "  <tbody>\n",
              "    <tr>\n",
              "      <th>0</th>\n",
              "      <td>0.0</td>\n",
              "      <td>4.0</td>\n",
              "      <td>0.0</td>\n",
              "      <td>3.0</td>\n",
              "      <td>1.35</td>\n",
              "    </tr>\n",
              "    <tr>\n",
              "      <th>1</th>\n",
              "      <td>0.0</td>\n",
              "      <td>7.0</td>\n",
              "      <td>1.0</td>\n",
              "      <td>4.0</td>\n",
              "      <td>2.05</td>\n",
              "    </tr>\n",
              "    <tr>\n",
              "      <th>2</th>\n",
              "      <td>1.0</td>\n",
              "      <td>10.0</td>\n",
              "      <td>1.0</td>\n",
              "      <td>7.0</td>\n",
              "      <td>3.35</td>\n",
              "    </tr>\n",
              "    <tr>\n",
              "      <th>3</th>\n",
              "      <td>2.0</td>\n",
              "      <td>20.0</td>\n",
              "      <td>2.0</td>\n",
              "      <td>10.0</td>\n",
              "      <td>5.50</td>\n",
              "    </tr>\n",
              "    <tr>\n",
              "      <th>4</th>\n",
              "      <td>3.0</td>\n",
              "      <td>20.0</td>\n",
              "      <td>2.0</td>\n",
              "      <td>10.0</td>\n",
              "      <td>6.50</td>\n",
              "    </tr>\n",
              "  </tbody>\n",
              "</table>\n",
              "</div>"
            ],
            "text/plain": [
              "   deals_closed  good_cvs  signed_ndas  worked_jobs  payment\n",
              "0           0.0       4.0          0.0          3.0     1.35\n",
              "1           0.0       7.0          1.0          4.0     2.05\n",
              "2           1.0      10.0          1.0          7.0     3.35\n",
              "3           2.0      20.0          2.0         10.0     5.50\n",
              "4           3.0      20.0          2.0         10.0     6.50"
            ]
          },
          "metadata": {
            "tags": []
          },
          "execution_count": 2
        }
      ]
    },
    {
      "cell_type": "code",
      "metadata": {
        "id": "Y_zGk2AscuVz",
        "colab_type": "code",
        "outputId": "64948bca-5f6f-49fa-c8af-9c7ad5eedd6c",
        "colab": {
          "base_uri": "https://localhost:8080/",
          "height": 118
        }
      },
      "source": [
        "data.dtypes"
      ],
      "execution_count": 3,
      "outputs": [
        {
          "output_type": "execute_result",
          "data": {
            "text/plain": [
              "deals_closed    float64\n",
              "good_cvs        float64\n",
              "signed_ndas     float64\n",
              "worked_jobs     float64\n",
              "payment         float64\n",
              "dtype: object"
            ]
          },
          "metadata": {
            "tags": []
          },
          "execution_count": 3
        }
      ]
    },
    {
      "cell_type": "markdown",
      "metadata": {
        "id": "jCy21LR6I4Qk",
        "colab_type": "text"
      },
      "source": [
        "Define Keras Model"
      ]
    },
    {
      "cell_type": "code",
      "metadata": {
        "id": "GHKWs9GbZQ0_",
        "colab_type": "code",
        "outputId": "d8939630-6f7e-4cba-b135-85c393e78ef0",
        "colab": {
          "base_uri": "https://localhost:8080/",
          "height": 202
        }
      },
      "source": [
        "#model = tf.keras.Sequential([keras.layers.Dense(units=1, input_shape=[4])])\n",
        "#model.compile(optimizer='sgd', loss='mean_squared_error')\n",
        "\n",
        "model = tf.keras.Sequential()\n",
        "\n",
        "model.add(keras.layers.Dense(1, input_dim=4, activation='linear'))\n",
        "#model.add(keras.layers.Dense(1, kernel_initializer='normal'))\n",
        "\n",
        "sgd = tf.keras.optimizers.SGD(lr=0.01, decay=1e-6, momentum=0.9, nesterov=True)\n",
        "#sgd = optimizers.SGD(lr=0.01, decay=1e-6, momentum=0.9, nesterov=True)\n",
        "\n",
        "\n",
        "\n",
        "# Compile model\n",
        "model.compile(loss='mean_squared_error', optimizer=\"adam\" , metrics=['accuracy'])\n",
        "print(model.summary())\n"
      ],
      "execution_count": 32,
      "outputs": [
        {
          "output_type": "stream",
          "text": [
            "Model: \"sequential_8\"\n",
            "_________________________________________________________________\n",
            "Layer (type)                 Output Shape              Param #   \n",
            "=================================================================\n",
            "dense_8 (Dense)              (None, 1)                 5         \n",
            "=================================================================\n",
            "Total params: 5\n",
            "Trainable params: 5\n",
            "Non-trainable params: 0\n",
            "_________________________________________________________________\n",
            "None\n"
          ],
          "name": "stdout"
        }
      ]
    },
    {
      "cell_type": "markdown",
      "metadata": {
        "id": "Kxk7bfVMaHu2",
        "colab_type": "text"
      },
      "source": [
        "Define input and output"
      ]
    },
    {
      "cell_type": "code",
      "metadata": {
        "id": "VIkj29GXaKsP",
        "colab_type": "code",
        "outputId": "be33425b-7d59-48ff-f736-bed18e69b08c",
        "colab": {
          "base_uri": "https://localhost:8080/",
          "height": 336
        }
      },
      "source": [
        "xs = data[[\"deals_closed\",\"good_cvs\",\"signed_ndas\",\"worked_jobs\"]].to_numpy()\n",
        "ys = data[[\"payment\"]].to_numpy()\n",
        "print(xs)\n",
        "print(\"---\")\n",
        "print(ys)"
      ],
      "execution_count": 5,
      "outputs": [
        {
          "output_type": "stream",
          "text": [
            "[[ 0.  4.  0.  3.]\n",
            " [ 0.  7.  1.  4.]\n",
            " [ 1. 10.  1.  7.]\n",
            " [ 2. 20.  2. 10.]\n",
            " [ 3. 20.  2. 10.]\n",
            " [ 4. 20.  4. 10.]\n",
            " [ 5. 22.  4. 10.]\n",
            " [ 1. 20.  4. 10.]\n",
            " [ 3. 30.  4. 10.]]\n",
            "---\n",
            "[[1.35]\n",
            " [2.05]\n",
            " [3.35]\n",
            " [5.5 ]\n",
            " [6.5 ]\n",
            " [8.5 ]\n",
            " [9.6 ]\n",
            " [5.5 ]\n",
            " [8.  ]]\n"
          ],
          "name": "stdout"
        }
      ]
    },
    {
      "cell_type": "markdown",
      "metadata": {
        "id": "8l9JD6AAZwC3",
        "colab_type": "text"
      },
      "source": [
        "Train Model"
      ]
    },
    {
      "cell_type": "code",
      "metadata": {
        "id": "HMpVhGBfaL4Y",
        "colab_type": "code",
        "outputId": "a2f74689-30a0-4623-86de-80a2ad1a752c",
        "colab": {
          "base_uri": "https://localhost:8080/",
          "height": 370
        }
      },
      "source": [
        "model.fit(xs, ys, epochs=10)"
      ],
      "execution_count": 44,
      "outputs": [
        {
          "output_type": "stream",
          "text": [
            "Epoch 1/10\n",
            "1/1 [==============================] - 0s 920us/step - loss: 6.3159e-15 - accuracy: 0.0000e+00\n",
            "Epoch 2/10\n",
            "1/1 [==============================] - 0s 1ms/step - loss: 4.0605e-07 - accuracy: 0.0000e+00\n",
            "Epoch 3/10\n",
            "1/1 [==============================] - 0s 1ms/step - loss: 1.4670e-06 - accuracy: 0.0000e+00\n",
            "Epoch 4/10\n",
            "1/1 [==============================] - 0s 1ms/step - loss: 2.9839e-06 - accuracy: 0.0000e+00\n",
            "Epoch 5/10\n",
            "1/1 [==============================] - 0s 1ms/step - loss: 4.8089e-06 - accuracy: 0.0000e+00\n",
            "Epoch 6/10\n",
            "1/1 [==============================] - 0s 3ms/step - loss: 6.8219e-06 - accuracy: 0.0000e+00\n",
            "Epoch 7/10\n",
            "1/1 [==============================] - 0s 2ms/step - loss: 8.9348e-06 - accuracy: 0.0000e+00\n",
            "Epoch 8/10\n",
            "1/1 [==============================] - 0s 1ms/step - loss: 1.1079e-05 - accuracy: 0.0000e+00\n",
            "Epoch 9/10\n",
            "1/1 [==============================] - 0s 1ms/step - loss: 1.3207e-05 - accuracy: 0.0000e+00\n",
            "Epoch 10/10\n",
            "1/1 [==============================] - 0s 2ms/step - loss: 1.5282e-05 - accuracy: 0.0000e+00\n"
          ],
          "name": "stdout"
        },
        {
          "output_type": "execute_result",
          "data": {
            "text/plain": [
              "<tensorflow.python.keras.callbacks.History at 0x7f059fa905f8>"
            ]
          },
          "metadata": {
            "tags": []
          },
          "execution_count": 44
        }
      ]
    },
    {
      "cell_type": "code",
      "metadata": {
        "id": "ORnhf7ZfMpJt",
        "colab_type": "code",
        "outputId": "73881768-0915-4f67-d74d-1277d55a0144",
        "colab": {
          "base_uri": "https://localhost:8080/",
          "height": 84
        }
      },
      "source": [
        "model.get_weights()"
      ],
      "execution_count": 45,
      "outputs": [
        {
          "output_type": "execute_result",
          "data": {
            "text/plain": [
              "[array([[1.0021267 ],\n",
              "        [0.04877639],\n",
              "        [0.5009672 ],\n",
              "        [0.05149108]], dtype=float32), array([1.0023072], dtype=float32)]"
            ]
          },
          "metadata": {
            "tags": []
          },
          "execution_count": 45
        }
      ]
    },
    {
      "cell_type": "markdown",
      "metadata": {
        "id": "1PVn0YW6iAwZ",
        "colab_type": "text"
      },
      "source": [
        "Load Weights"
      ]
    },
    {
      "cell_type": "code",
      "metadata": {
        "id": "W2KdEuzOiDfZ",
        "colab_type": "code",
        "colab": {}
      },
      "source": [
        "ideal = [np.array([[ 1.0  ],\n",
        "        [0.05],\n",
        "        [ 0.5],\n",
        "        [ 0.05]], dtype=\"float32\"), np.array([1.0], dtype=\"float32\")]\n",
        "model.set_weights(ideal)"
      ],
      "execution_count": 0,
      "outputs": []
    },
    {
      "cell_type": "code",
      "metadata": {
        "id": "WMhZ5dpnihTE",
        "colab_type": "code",
        "outputId": "c908248e-f3a7-4101-d723-98345162f2dc",
        "colab": {
          "base_uri": "https://localhost:8080/",
          "height": 118
        }
      },
      "source": [
        "print(model.predict([[ 0.0,4.0,0.0,3.0]])) #1.35\n",
        "print(model.predict([[ 0.0,7.0,1.0,4.0]])) #2.05\n",
        "print(model.predict([[ 1.0,10.0,1.0,7.0]])) #3.35\n",
        "print(model.predict([[ 2.0,20.0,2.0,10.0]])) #5.5\n",
        "print(model.predict([[ 4.0,20.0,4.0,10.0]])) #8.5\n",
        "print(model.predict([[ 3.0,30.0,4.0,10.0]])) #8"
      ],
      "execution_count": 42,
      "outputs": [
        {
          "output_type": "stream",
          "text": [
            "[[1.35]]\n",
            "[[2.0500002]]\n",
            "[[3.35]]\n",
            "[[5.5]]\n",
            "[[8.5]]\n",
            "[[8.]]\n"
          ],
          "name": "stdout"
        }
      ]
    }
  ]
}