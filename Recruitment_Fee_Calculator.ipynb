{
  "nbformat": 4,
  "nbformat_minor": 0,
  "metadata": {
    "colab": {
      "name": "Recruitment Fee Calculator",
      "provenance": [],
      "collapsed_sections": [],
      "authorship_tag": "ABX9TyPk3w8rT2bFgKSAMoq1Rffy",
      "include_colab_link": true
    },
    "kernelspec": {
      "name": "python3",
      "display_name": "Python 3"
    },
    "accelerator": "GPU"
  },
  "cells": [
    {
      "cell_type": "markdown",
      "metadata": {
        "id": "view-in-github",
        "colab_type": "text"
      },
      "source": [
        "<a href=\"https://colab.research.google.com/github/RazvanPorojan/metal_python/blob/master/Recruitment_Fee_Calculator.ipynb\" target=\"_parent\"><img src=\"https://colab.research.google.com/assets/colab-badge.svg\" alt=\"Open In Colab\"/></a>"
      ]
    },
    {
      "cell_type": "markdown",
      "metadata": {
        "id": "Vdzy2R6SI55U",
        "colab_type": "text"
      },
      "source": [
        "Import libraries"
      ]
    },
    {
      "cell_type": "code",
      "metadata": {
        "id": "7D3CPVpPIBr9",
        "colab_type": "code",
        "colab": {}
      },
      "source": [
        "import tensorflow as tf\n",
        "from tensorflow import keras\n",
        "import numpy as np\n",
        "import pandas as pd\n",
        "from keras.models import model_from_json\n",
        "import numpy\n",
        "\n",
        "%matplotlib inline\n",
        "import matplotlib.pyplot as plt\n",
        "from IPython.display import clear_output\n",
        "\n",
        "from sklearn.linear_model import LinearRegression\n",
        "from sklearn import metrics"
      ],
      "execution_count": 0,
      "outputs": []
    },
    {
      "cell_type": "markdown",
      "metadata": {
        "id": "ZXLnoDBaI1wo",
        "colab_type": "text"
      },
      "source": [
        "Load Data"
      ]
    },
    {
      "cell_type": "code",
      "metadata": {
        "id": "2XwAHFHIJCVW",
        "colab_type": "code",
        "outputId": "cb0406e3-e4e0-44bf-e5d7-d1ff33a5e06c",
        "colab": {
          "base_uri": "https://localhost:8080/",
          "height": 195
        }
      },
      "source": [
        "data = pd.read_csv(\"target_long.csv\")\n",
        "data.head()\n"
      ],
      "execution_count": 24,
      "outputs": [
        {
          "output_type": "execute_result",
          "data": {
            "text/html": [
              "<div>\n",
              "<style scoped>\n",
              "    .dataframe tbody tr th:only-of-type {\n",
              "        vertical-align: middle;\n",
              "    }\n",
              "\n",
              "    .dataframe tbody tr th {\n",
              "        vertical-align: top;\n",
              "    }\n",
              "\n",
              "    .dataframe thead th {\n",
              "        text-align: right;\n",
              "    }\n",
              "</style>\n",
              "<table border=\"1\" class=\"dataframe\">\n",
              "  <thead>\n",
              "    <tr style=\"text-align: right;\">\n",
              "      <th></th>\n",
              "      <th>closed</th>\n",
              "      <th>good_cv</th>\n",
              "      <th>nda</th>\n",
              "      <th>jobs</th>\n",
              "      <th>pay</th>\n",
              "    </tr>\n",
              "  </thead>\n",
              "  <tbody>\n",
              "    <tr>\n",
              "      <th>0</th>\n",
              "      <td>0</td>\n",
              "      <td>4</td>\n",
              "      <td>0</td>\n",
              "      <td>3</td>\n",
              "      <td>1.35</td>\n",
              "    </tr>\n",
              "    <tr>\n",
              "      <th>1</th>\n",
              "      <td>0</td>\n",
              "      <td>7</td>\n",
              "      <td>1</td>\n",
              "      <td>4</td>\n",
              "      <td>1.05</td>\n",
              "    </tr>\n",
              "    <tr>\n",
              "      <th>2</th>\n",
              "      <td>1</td>\n",
              "      <td>10</td>\n",
              "      <td>1</td>\n",
              "      <td>7</td>\n",
              "      <td>2.35</td>\n",
              "    </tr>\n",
              "    <tr>\n",
              "      <th>3</th>\n",
              "      <td>2</td>\n",
              "      <td>20</td>\n",
              "      <td>2</td>\n",
              "      <td>10</td>\n",
              "      <td>4.50</td>\n",
              "    </tr>\n",
              "    <tr>\n",
              "      <th>4</th>\n",
              "      <td>3</td>\n",
              "      <td>20</td>\n",
              "      <td>2</td>\n",
              "      <td>10</td>\n",
              "      <td>5.50</td>\n",
              "    </tr>\n",
              "  </tbody>\n",
              "</table>\n",
              "</div>"
            ],
            "text/plain": [
              "   closed  good_cv  nda  jobs   pay\n",
              "0       0        4    0     3  1.35\n",
              "1       0        7    1     4  1.05\n",
              "2       1       10    1     7  2.35\n",
              "3       2       20    2    10  4.50\n",
              "4       3       20    2    10  5.50"
            ]
          },
          "metadata": {
            "tags": []
          },
          "execution_count": 24
        }
      ]
    },
    {
      "cell_type": "code",
      "metadata": {
        "id": "Y_zGk2AscuVz",
        "colab_type": "code",
        "outputId": "46ffbe07-e58b-4c48-89f4-df131972ebc0",
        "colab": {
          "base_uri": "https://localhost:8080/",
          "height": 118
        }
      },
      "source": [
        "data.dtypes"
      ],
      "execution_count": 25,
      "outputs": [
        {
          "output_type": "execute_result",
          "data": {
            "text/plain": [
              "closed       int64\n",
              "good_cv      int64\n",
              "nda          int64\n",
              "jobs         int64\n",
              "pay        float64\n",
              "dtype: object"
            ]
          },
          "metadata": {
            "tags": []
          },
          "execution_count": 25
        }
      ]
    },
    {
      "cell_type": "code",
      "metadata": {
        "id": "Sv27Iz7h3x6N",
        "colab_type": "code",
        "outputId": "cc03ff74-c421-4439-8f22-bc1065babb09",
        "colab": {
          "base_uri": "https://localhost:8080/",
          "height": 284
        }
      },
      "source": [
        "data.describe()"
      ],
      "execution_count": 26,
      "outputs": [
        {
          "output_type": "execute_result",
          "data": {
            "text/html": [
              "<div>\n",
              "<style scoped>\n",
              "    .dataframe tbody tr th:only-of-type {\n",
              "        vertical-align: middle;\n",
              "    }\n",
              "\n",
              "    .dataframe tbody tr th {\n",
              "        vertical-align: top;\n",
              "    }\n",
              "\n",
              "    .dataframe thead th {\n",
              "        text-align: right;\n",
              "    }\n",
              "</style>\n",
              "<table border=\"1\" class=\"dataframe\">\n",
              "  <thead>\n",
              "    <tr style=\"text-align: right;\">\n",
              "      <th></th>\n",
              "      <th>closed</th>\n",
              "      <th>good_cv</th>\n",
              "      <th>nda</th>\n",
              "      <th>jobs</th>\n",
              "      <th>pay</th>\n",
              "    </tr>\n",
              "  </thead>\n",
              "  <tbody>\n",
              "    <tr>\n",
              "      <th>count</th>\n",
              "      <td>1003.000000</td>\n",
              "      <td>1003.000000</td>\n",
              "      <td>1003.000000</td>\n",
              "      <td>1003.000000</td>\n",
              "      <td>1003.000000</td>\n",
              "    </tr>\n",
              "    <tr>\n",
              "      <th>mean</th>\n",
              "      <td>494.043868</td>\n",
              "      <td>29.883350</td>\n",
              "      <td>3.986042</td>\n",
              "      <td>9.984048</td>\n",
              "      <td>498.031256</td>\n",
              "    </tr>\n",
              "    <tr>\n",
              "      <th>std</th>\n",
              "      <td>289.610421</td>\n",
              "      <td>1.432218</td>\n",
              "      <td>0.204258</td>\n",
              "      <td>0.305872</td>\n",
              "      <td>289.631954</td>\n",
              "    </tr>\n",
              "    <tr>\n",
              "      <th>min</th>\n",
              "      <td>0.000000</td>\n",
              "      <td>4.000000</td>\n",
              "      <td>0.000000</td>\n",
              "      <td>3.000000</td>\n",
              "      <td>1.050000</td>\n",
              "    </tr>\n",
              "    <tr>\n",
              "      <th>25%</th>\n",
              "      <td>243.500000</td>\n",
              "      <td>30.000000</td>\n",
              "      <td>4.000000</td>\n",
              "      <td>10.000000</td>\n",
              "      <td>247.500000</td>\n",
              "    </tr>\n",
              "    <tr>\n",
              "      <th>50%</th>\n",
              "      <td>494.000000</td>\n",
              "      <td>30.000000</td>\n",
              "      <td>4.000000</td>\n",
              "      <td>10.000000</td>\n",
              "      <td>498.000000</td>\n",
              "    </tr>\n",
              "    <tr>\n",
              "      <th>75%</th>\n",
              "      <td>744.500000</td>\n",
              "      <td>30.000000</td>\n",
              "      <td>4.000000</td>\n",
              "      <td>10.000000</td>\n",
              "      <td>748.500000</td>\n",
              "    </tr>\n",
              "    <tr>\n",
              "      <th>max</th>\n",
              "      <td>995.000000</td>\n",
              "      <td>30.000000</td>\n",
              "      <td>4.000000</td>\n",
              "      <td>10.000000</td>\n",
              "      <td>999.000000</td>\n",
              "    </tr>\n",
              "  </tbody>\n",
              "</table>\n",
              "</div>"
            ],
            "text/plain": [
              "            closed      good_cv          nda         jobs          pay\n",
              "count  1003.000000  1003.000000  1003.000000  1003.000000  1003.000000\n",
              "mean    494.043868    29.883350     3.986042     9.984048   498.031256\n",
              "std     289.610421     1.432218     0.204258     0.305872   289.631954\n",
              "min       0.000000     4.000000     0.000000     3.000000     1.050000\n",
              "25%     243.500000    30.000000     4.000000    10.000000   247.500000\n",
              "50%     494.000000    30.000000     4.000000    10.000000   498.000000\n",
              "75%     744.500000    30.000000     4.000000    10.000000   748.500000\n",
              "max     995.000000    30.000000     4.000000    10.000000   999.000000"
            ]
          },
          "metadata": {
            "tags": []
          },
          "execution_count": 26
        }
      ]
    },
    {
      "cell_type": "markdown",
      "metadata": {
        "id": "SU6XUv5s4r9y",
        "colab_type": "text"
      },
      "source": [
        "Plot Data"
      ]
    },
    {
      "cell_type": "code",
      "metadata": {
        "id": "nDu3zgLX4tSc",
        "colab_type": "code",
        "colab": {
          "base_uri": "https://localhost:8080/",
          "height": 376
        },
        "outputId": "c9f64a11-0b3f-4e00-cb07-a0a6d76fb695"
      },
      "source": [
        "data.plot(x='closed', y='pay', style='o')  \n",
        "plt.title('Graph')  \n",
        "plt.xlabel('closed')  \n",
        "plt.ylabel('pay')  \n",
        "plt.show()"
      ],
      "execution_count": 29,
      "outputs": [
        {
          "output_type": "display_data",
          "data": {
            "image/png": "[encoded data removed]",
            "text/plain": [
              "<Figure size 576x396 with 1 Axes>"
            ]
          },
          "metadata": {
            "tags": []
          }
        }
      ]
    },
    {
      "cell_type": "code",
      "metadata": {
        "id": "g2NAbZYJsqHU",
        "colab_type": "code",
        "colab": {}
      },
      "source": [
        "class TrainingPlot(keras.callbacks.Callback):\n",
        "    \n",
        "    # This function is called when the training begins\n",
        "    def on_train_begin(self, logs={}):\n",
        "        # Initialize the lists for holding the logs, losses and accuracies\n",
        "        self.losses = []\n",
        "        #self.acc = []\n",
        "        #self.val_losses = []\n",
        "        #self.val_acc = []\n",
        "        self.logs = []\n",
        "    \n",
        "    # This function is called at the end of each epoch\n",
        "    def on_epoch_end(self, epoch, logs={}):\n",
        "        \n",
        "        # Append the logs, losses and accuracies to the lists\n",
        "        self.logs.append(logs)\n",
        "        self.losses.append(logs.get('loss'))\n",
        "        #self.acc.append(logs.get('acc'))\n",
        "        #self.val_losses.append(logs.get('val_loss'))\n",
        "        #self.val_acc.append(logs.get('val_acc'))\n",
        "        \n",
        "        # Before plotting ensure at least 2 epochs have passed\n",
        "        if len(self.losses) > 1:\n",
        "            \n",
        "            # Clear the previous plot\n",
        "            clear_output(wait=True)\n",
        "            N = np.arange(0, len(self.losses))\n",
        "            \n",
        "            # You can chose the style of your preference\n",
        "            # print(plt.style.available) to see the available options\n",
        "            plt.style.use(\"seaborn\")\n",
        "            \n",
        "            # Plot train loss, train acc, val loss and val acc against epochs passed\n",
        "            plt.figure()\n",
        "            plt.plot(N, self.losses, label = \"train_loss\")\n",
        "            #plt.plot(N, self.acc, label = \"train_acc\")\n",
        "            #plt.plot(N, self.val_losses, label = \"val_loss\")\n",
        "            #plt.plot(N, self.val_acc, label = \"val_acc\")\n",
        "            plt.title(\"Training Loss and Accuracy [Epoch {}]\".format(epoch))\n",
        "            plt.xlabel(\"Epoch #\")\n",
        "            plt.ylabel(\"Loss/Accuracy\")\n",
        "            plt.legend()\n",
        "            plt.show()\n",
        "\n",
        "plot_losses = TrainingPlot()"
      ],
      "execution_count": 0,
      "outputs": []
    },
    {
      "cell_type": "markdown",
      "metadata": {
        "id": "Kxk7bfVMaHu2",
        "colab_type": "text"
      },
      "source": [
        "Define input and output - Are Xs really independent?"
      ]
    },
    {
      "cell_type": "code",
      "metadata": {
        "id": "VIkj29GXaKsP",
        "colab_type": "code",
        "colab": {}
      },
      "source": [
        "xs = data[[\"closed\",\"good_cv\",\"nda\",\"jobs\"]].to_numpy()\n",
        "ys = data[[\"pay\"]].to_numpy()\n",
        "#print(xs)\n",
        "#print(\"---\")\n",
        "#print(ys)"
      ],
      "execution_count": 0,
      "outputs": []
    },
    {
      "cell_type": "markdown",
      "metadata": {
        "id": "jCy21LR6I4Qk",
        "colab_type": "text"
      },
      "source": [
        "Define Keras Model - one neuron"
      ]
    },
    {
      "cell_type": "code",
      "metadata": {
        "id": "GHKWs9GbZQ0_",
        "colab_type": "code",
        "outputId": "8aebf1df-63d0-4712-a112-bd43f865008a",
        "colab": {
          "base_uri": "https://localhost:8080/",
          "height": 202
        }
      },
      "source": [
        "#model = tf.keras.Sequential([keras.layers.Dense(units=1, input_shape=[4])])\n",
        "#model.compile(optimizer='sgd', loss='mean_squared_error')\n",
        "\n",
        "model = tf.keras.Sequential()\n",
        "\n",
        "model.add(keras.layers.Dense(1, input_dim=4, activation='relu'))\n",
        "#model.add(keras.layers.Dense(1, kernel_initializer='normal'))\n",
        "\n",
        "sgd = tf.keras.optimizers.SGD(lr=0.01, decay=1e-6, momentum=0.9, nesterov=True)\n",
        "#sgd = optimizers.SGD(lr=0.01, decay=1e-6, momentum=0.9, nesterov=True)\n",
        "\n",
        "\n",
        "\n",
        "# Compile model\n",
        "model.compile(loss='mean_squared_error', optimizer=\"sgd\")\n",
        "print(model.summary())\n"
      ],
      "execution_count": 35,
      "outputs": [
        {
          "output_type": "stream",
          "text": [
            "Model: \"sequential_5\"\n",
            "_________________________________________________________________\n",
            "Layer (type)                 Output Shape              Param #   \n",
            "=================================================================\n",
            "dense_6 (Dense)              (None, 1)                 5         \n",
            "=================================================================\n",
            "Total params: 5\n",
            "Trainable params: 5\n",
            "Non-trainable params: 0\n",
            "_________________________________________________________________\n",
            "None\n"
          ],
          "name": "stdout"
        }
      ]
    },
    {
      "cell_type": "markdown",
      "metadata": {
        "id": "WKUvMzt66MMM",
        "colab_type": "text"
      },
      "source": [
        "or Alternate Deep Model"
      ]
    },
    {
      "cell_type": "code",
      "metadata": {
        "id": "t5DVg4L66GI2",
        "colab_type": "code",
        "colab": {
          "base_uri": "https://localhost:8080/",
          "height": 235
        },
        "outputId": "8dc5671d-2641-4ba0-cd4f-70f5905affd0"
      },
      "source": [
        "model = tf.keras.Sequential()\n",
        "model.add(keras.layers.Dense(4, input_dim=4, kernel_initializer='normal', activation='relu'))\n",
        "model.add(keras.layers.Dense(1, kernel_initializer='normal'))\n",
        "model.compile(loss='mean_squared_error', optimizer='adam')\n",
        "print(model.summary())"
      ],
      "execution_count": 37,
      "outputs": [
        {
          "output_type": "stream",
          "text": [
            "Model: \"sequential_6\"\n",
            "_________________________________________________________________\n",
            "Layer (type)                 Output Shape              Param #   \n",
            "=================================================================\n",
            "dense_7 (Dense)              (None, 4)                 20        \n",
            "_________________________________________________________________\n",
            "dense_8 (Dense)              (None, 1)                 5         \n",
            "=================================================================\n",
            "Total params: 25\n",
            "Trainable params: 25\n",
            "Non-trainable params: 0\n",
            "_________________________________________________________________\n",
            "None\n"
          ],
          "name": "stdout"
        }
      ]
    },
    {
      "cell_type": "markdown",
      "metadata": {
        "id": "8l9JD6AAZwC3",
        "colab_type": "text"
      },
      "source": [
        "Train Model"
      ]
    },
    {
      "cell_type": "code",
      "metadata": {
        "id": "HMpVhGBfaL4Y",
        "colab_type": "code",
        "outputId": "74916556-548f-43fb-ab79-4334c21ceaa9",
        "colab": {
          "base_uri": "https://localhost:8080/",
          "height": 410
        }
      },
      "source": [
        "model.fit(xs, ys, epochs=500, callbacks=[plot_losses])"
      ],
      "execution_count": 38,
      "outputs": [
        {
          "output_type": "display_data",
          "data": {
            "image/png": "[encoded data removed]",
            "text/plain": [
              "<Figure size 576x396 with 1 Axes>"
            ]
          },
          "metadata": {
            "tags": []
          }
        },
        {
          "output_type": "stream",
          "text": [
            "\b\b\b\b\b\b\b\b\b\b\b\b\b\b\b\b\b\b\b\b\b\b\b\b\b\b\b\b\b\b\b\b\b\b\b\b\b\b\b\b\b\b\b\b\b\b\b\b\b\b\b\b\b\b\b\b\b\b\b\b\b\b\b\b\b\b\b\b\r32/32 [==============================] - 0s 10ms/step - loss: 316285.3438\n"
          ],
          "name": "stdout"
        },
        {
          "output_type": "execute_result",
          "data": {
            "text/plain": [
              "<tensorflow.python.keras.callbacks.History at 0x7f742f7f1a58>"
            ]
          },
          "metadata": {
            "tags": []
          },
          "execution_count": 38
        }
      ]
    },
    {
      "cell_type": "markdown",
      "metadata": {
        "id": "CP1AwME3Eehf",
        "colab_type": "text"
      },
      "source": [
        "Scikit Learn"
      ]
    },
    {
      "cell_type": "code",
      "metadata": {
        "id": "Oq3pdSVkEgYK",
        "colab_type": "code",
        "colab": {
          "base_uri": "https://localhost:8080/",
          "height": 34
        },
        "outputId": "fb16bd16-3382-42a8-91f1-accda5c85cf5"
      },
      "source": [
        "regressor = LinearRegression()  \n",
        "regressor.fit(xs, ys)"
      ],
      "execution_count": 42,
      "outputs": [
        {
          "output_type": "execute_result",
          "data": {
            "text/plain": [
              "LinearRegression(copy_X=True, fit_intercept=True, n_jobs=None, normalize=False)"
            ]
          },
          "metadata": {
            "tags": []
          },
          "execution_count": 42
        }
      ]
    },
    {
      "cell_type": "code",
      "metadata": {
        "id": "ORnhf7ZfMpJt",
        "colab_type": "code",
        "outputId": "4b8afa16-2905-4e60-f7c6-7bc8725a54e2",
        "colab": {
          "base_uri": "https://localhost:8080/",
          "height": 504
        }
      },
      "source": [
        "model.get_weights()"
      ],
      "execution_count": 16,
      "outputs": [
        {
          "output_type": "execute_result",
          "data": {
            "text/plain": [
              "[array([[ 0.04779301, -0.12980564, -0.03065285, -0.10362355, -0.02785176,\n",
              "          0.0749407 ,  0.151466  ,  0.19714463, -0.00536459,  0.24682537,\n",
              "          0.19613342,  0.18313006,  0.01404752],\n",
              "        [-0.01657974, -0.0065804 ,  0.00892557,  0.02199463, -0.04338909,\n",
              "         -0.07214097,  0.15682246,  0.2038882 , -0.04320111,  0.19849856,\n",
              "          0.20271195,  0.13841382,  0.00220562],\n",
              "        [-0.02430447, -0.04877153, -0.03037554, -0.02960038,  0.03413467,\n",
              "         -0.05067481,  0.13057622,  0.139599  ,  0.07539894,  0.14891201,\n",
              "          0.14109847,  0.10619123, -0.00760699],\n",
              "        [ 0.01177733,  0.02157775, -0.06549988, -0.03298623,  0.0436325 ,\n",
              "         -0.01125319,  0.18725061,  0.03378053,  0.00207987,  0.17487337,\n",
              "          0.10014576,  0.2310962 , -0.04643289]], dtype=float32),\n",
              " array([ 0.        , -0.02535812,  0.        , -0.03522016, -0.00823175,\n",
              "         0.        ,  0.1624103 ,  0.14740667,  0.        ,  0.14110011,\n",
              "         0.16109134,  0.17359127, -0.01952455], dtype=float32),\n",
              " array([[ 0.10453735],\n",
              "        [-0.01648698],\n",
              "        [ 0.02813727],\n",
              "        [-0.00589566],\n",
              "        [-0.00986492],\n",
              "        [ 0.03346736],\n",
              "        [ 0.21310921],\n",
              "        [ 0.24475028],\n",
              "        [-0.01128382],\n",
              "        [ 0.22267441],\n",
              "        [ 0.20414776],\n",
              "        [ 0.19843188],\n",
              "        [-0.0930052 ]], dtype=float32),\n",
              " array([0.11282099], dtype=float32)]"
            ]
          },
          "metadata": {
            "tags": []
          },
          "execution_count": 16
        }
      ]
    },
    {
      "cell_type": "markdown",
      "metadata": {
        "id": "1PVn0YW6iAwZ",
        "colab_type": "text"
      },
      "source": [
        "Load Ideal Weights for Single Neuron - Problem how to get this weights with Deep Network?"
      ]
    },
    {
      "cell_type": "code",
      "metadata": {
        "id": "W2KdEuzOiDfZ",
        "colab_type": "code",
        "colab": {}
      },
      "source": [
        "ideal = [np.array([[ 1.0  ],\n",
        "        [0.05],\n",
        "        [ 0.5],\n",
        "        [ 0.05]], dtype=\"float32\"), np.array([1.0], dtype=\"float32\")]\n",
        "model.set_weights(ideal)"
      ],
      "execution_count": 0,
      "outputs": []
    },
    {
      "cell_type": "code",
      "metadata": {
        "id": "WMhZ5dpnihTE",
        "colab_type": "code",
        "outputId": "f1824d4d-9245-4766-e27a-9f7b71d3d423",
        "colab": {
          "base_uri": "https://localhost:8080/",
          "height": 118
        }
      },
      "source": [
        "print(model.predict([[ 0.0,4.0,0.0,3.0]])) #1.35\n",
        "print(model.predict([[ 0.0,7.0,1.0,4.0]])) #2.05\n",
        "print(model.predict([[ 1.0,10.0,1.0,7.0]])) #3.35\n",
        "print(model.predict([[ 2.0,20.0,2.0,10.0]])) #5.5\n",
        "print(model.predict([[ 4.0,20.0,4.0,10.0]])) #8.5\n",
        "print(model.predict([[ 3.0,30.0,4.0,10.0]])) #8"
      ],
      "execution_count": 39,
      "outputs": [
        {
          "output_type": "stream",
          "text": [
            "[[9.437273]]\n",
            "[[8.670068]]\n",
            "[[5.9421415]]\n",
            "[[3.9745588]]\n",
            "[[7.0416136]]\n",
            "[[6.4159117]]\n"
          ],
          "name": "stdout"
        }
      ]
    },
    {
      "cell_type": "code",
      "metadata": {
        "id": "ffXolp2DFJK8",
        "colab_type": "code",
        "colab": {}
      },
      "source": [
        "test_x=[[ 0.0,4.0,0.0,3.0],\n",
        "[ 0.0,7.0,1.0,4.0],\n",
        "[ 1.0,10.0,1.0,7.0],\n",
        "[ 2.0,20.0,2.0,10.0],\n",
        "[ 4.0,20.0,4.0,10.0],\n",
        "[ 3.0,30.0,4.0,10.0]]\n",
        "\n",
        "test_y = [1.35,\n",
        "2.05,\n",
        "3.35,\n",
        "5.5,\n",
        "8.5,\n",
        "8]"
      ],
      "execution_count": 0,
      "outputs": []
    },
    {
      "cell_type": "code",
      "metadata": {
        "id": "FcW3TApKF3-m",
        "colab_type": "code",
        "colab": {}
      },
      "source": [
        "nn_pred =model.predict(test_x)"
      ],
      "execution_count": 0,
      "outputs": []
    },
    {
      "cell_type": "code",
      "metadata": {
        "id": "eL5_rxYGGGA6",
        "colab_type": "code",
        "colab": {}
      },
      "source": [
        "sk_pred = regressor.predict(test_x)"
      ],
      "execution_count": 0,
      "outputs": []
    },
    {
      "cell_type": "code",
      "metadata": {
        "id": "pw5V64C0GXzf",
        "colab_type": "code",
        "colab": {
          "base_uri": "https://localhost:8080/",
          "height": 225
        },
        "outputId": "c26f702e-e668-4742-edd2-7dc98ae94551"
      },
      "source": [
        "df = pd.DataFrame({'Actual': test_y, 'NN Predicted': nn_pred.squeeze(), \"SK Predicted\": sk_pred.squeeze()})\n",
        "df.head(6)"
      ],
      "execution_count": 74,
      "outputs": [
        {
          "output_type": "execute_result",
          "data": {
            "text/html": [
              "<div>\n",
              "<style scoped>\n",
              "    .dataframe tbody tr th:only-of-type {\n",
              "        vertical-align: middle;\n",
              "    }\n",
              "\n",
              "    .dataframe tbody tr th {\n",
              "        vertical-align: top;\n",
              "    }\n",
              "\n",
              "    .dataframe thead th {\n",
              "        text-align: right;\n",
              "    }\n",
              "</style>\n",
              "<table border=\"1\" class=\"dataframe\">\n",
              "  <thead>\n",
              "    <tr style=\"text-align: right;\">\n",
              "      <th></th>\n",
              "      <th>Actual</th>\n",
              "      <th>NN Predicted</th>\n",
              "      <th>SK Predicted</th>\n",
              "    </tr>\n",
              "  </thead>\n",
              "  <tbody>\n",
              "    <tr>\n",
              "      <th>0</th>\n",
              "      <td>1.35</td>\n",
              "      <td>9.437273</td>\n",
              "      <td>0.884204</td>\n",
              "    </tr>\n",
              "    <tr>\n",
              "      <th>1</th>\n",
              "      <td>2.05</td>\n",
              "      <td>8.670068</td>\n",
              "      <td>1.492635</td>\n",
              "    </tr>\n",
              "    <tr>\n",
              "      <th>2</th>\n",
              "      <td>3.35</td>\n",
              "      <td>5.942142</td>\n",
              "      <td>2.551586</td>\n",
              "    </tr>\n",
              "    <tr>\n",
              "      <th>3</th>\n",
              "      <td>5.50</td>\n",
              "      <td>3.974559</td>\n",
              "      <td>4.482630</td>\n",
              "    </tr>\n",
              "    <tr>\n",
              "      <th>4</th>\n",
              "      <td>8.50</td>\n",
              "      <td>7.041614</td>\n",
              "      <td>7.433541</td>\n",
              "    </tr>\n",
              "    <tr>\n",
              "      <th>5</th>\n",
              "      <td>8.00</td>\n",
              "      <td>6.415912</td>\n",
              "      <td>7.000167</td>\n",
              "    </tr>\n",
              "  </tbody>\n",
              "</table>\n",
              "</div>"
            ],
            "text/plain": [
              "   Actual  NN Predicted  SK Predicted\n",
              "0    1.35      9.437273      0.884204\n",
              "1    2.05      8.670068      1.492635\n",
              "2    3.35      5.942142      2.551586\n",
              "3    5.50      3.974559      4.482630\n",
              "4    8.50      7.041614      7.433541\n",
              "5    8.00      6.415912      7.000167"
            ]
          },
          "metadata": {
            "tags": []
          },
          "execution_count": 74
        }
      ]
    }
  ]
}