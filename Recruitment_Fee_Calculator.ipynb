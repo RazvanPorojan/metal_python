{
  "nbformat": 4,
  "nbformat_minor": 0,
  "metadata": {
    "colab": {
      "name": "Recruitment Fee Calculator",
      "provenance": [],
      "collapsed_sections": [],
      "authorship_tag": "ABX9TyNtWGuVj7ZlJUKFGfi/r4Q/",
      "include_colab_link": true
    },
    "kernelspec": {
      "name": "python3",
      "display_name": "Python 3"
    },
    "accelerator": "GPU"
  },
  "cells": [
    {
      "cell_type": "markdown",
      "metadata": {
        "id": "view-in-github",
        "colab_type": "text"
      },
      "source": [
        "<a href=\"https://colab.research.google.com/github/RazvanPorojan/metal_python/blob/master/Recruitment_Fee_Calculator.ipynb\" target=\"_parent\"><img src=\"https://colab.research.google.com/assets/colab-badge.svg\" alt=\"Open In Colab\"/></a>"
      ]
    },
    {
      "cell_type": "markdown",
      "metadata": {
        "id": "Vdzy2R6SI55U",
        "colab_type": "text"
      },
      "source": [
        "Import libraries"
      ]
    },
    {
      "cell_type": "code",
      "metadata": {
        "id": "7D3CPVpPIBr9",
        "colab_type": "code",
        "colab": {}
      },
      "source": [
        "import tensorflow as tf\n",
        "from tensorflow import keras\n",
        "import numpy as np\n",
        "import pandas as pd\n",
        "from keras.models import model_from_json\n",
        "import numpy\n",
        "\n",
        "%matplotlib inline\n",
        "import matplotlib.pyplot as plt\n",
        "from IPython.display import clear_output"
      ],
      "execution_count": 0,
      "outputs": []
    },
    {
      "cell_type": "markdown",
      "metadata": {
        "id": "ZXLnoDBaI1wo",
        "colab_type": "text"
      },
      "source": [
        "Load Data"
      ]
    },
    {
      "cell_type": "code",
      "metadata": {
        "id": "2XwAHFHIJCVW",
        "colab_type": "code",
        "outputId": "f32cfba8-4775-4d91-a1f1-fca308588091",
        "colab": {
          "base_uri": "https://localhost:8080/",
          "height": 195
        }
      },
      "source": [
        "data = pd.read_csv(\"target_calc.csv\")\n",
        "data.head()\n"
      ],
      "execution_count": 4,
      "outputs": [
        {
          "output_type": "execute_result",
          "data": {
            "text/html": [
              "<div>\n",
              "<style scoped>\n",
              "    .dataframe tbody tr th:only-of-type {\n",
              "        vertical-align: middle;\n",
              "    }\n",
              "\n",
              "    .dataframe tbody tr th {\n",
              "        vertical-align: top;\n",
              "    }\n",
              "\n",
              "    .dataframe thead th {\n",
              "        text-align: right;\n",
              "    }\n",
              "</style>\n",
              "<table border=\"1\" class=\"dataframe\">\n",
              "  <thead>\n",
              "    <tr style=\"text-align: right;\">\n",
              "      <th></th>\n",
              "      <th>deals_closed</th>\n",
              "      <th>good_cvs</th>\n",
              "      <th>signed_ndas</th>\n",
              "      <th>worked_jobs</th>\n",
              "      <th>payment</th>\n",
              "    </tr>\n",
              "  </thead>\n",
              "  <tbody>\n",
              "    <tr>\n",
              "      <th>0</th>\n",
              "      <td>0.0</td>\n",
              "      <td>4.0</td>\n",
              "      <td>0.0</td>\n",
              "      <td>3.0</td>\n",
              "      <td>1.35</td>\n",
              "    </tr>\n",
              "    <tr>\n",
              "      <th>1</th>\n",
              "      <td>0.0</td>\n",
              "      <td>7.0</td>\n",
              "      <td>1.0</td>\n",
              "      <td>4.0</td>\n",
              "      <td>2.05</td>\n",
              "    </tr>\n",
              "    <tr>\n",
              "      <th>2</th>\n",
              "      <td>1.0</td>\n",
              "      <td>10.0</td>\n",
              "      <td>1.0</td>\n",
              "      <td>7.0</td>\n",
              "      <td>3.35</td>\n",
              "    </tr>\n",
              "    <tr>\n",
              "      <th>3</th>\n",
              "      <td>2.0</td>\n",
              "      <td>20.0</td>\n",
              "      <td>2.0</td>\n",
              "      <td>10.0</td>\n",
              "      <td>5.50</td>\n",
              "    </tr>\n",
              "    <tr>\n",
              "      <th>4</th>\n",
              "      <td>3.0</td>\n",
              "      <td>20.0</td>\n",
              "      <td>2.0</td>\n",
              "      <td>10.0</td>\n",
              "      <td>6.50</td>\n",
              "    </tr>\n",
              "  </tbody>\n",
              "</table>\n",
              "</div>"
            ],
            "text/plain": [
              "   deals_closed  good_cvs  signed_ndas  worked_jobs  payment\n",
              "0           0.0       4.0          0.0          3.0     1.35\n",
              "1           0.0       7.0          1.0          4.0     2.05\n",
              "2           1.0      10.0          1.0          7.0     3.35\n",
              "3           2.0      20.0          2.0         10.0     5.50\n",
              "4           3.0      20.0          2.0         10.0     6.50"
            ]
          },
          "metadata": {
            "tags": []
          },
          "execution_count": 4
        }
      ]
    },
    {
      "cell_type": "code",
      "metadata": {
        "id": "Y_zGk2AscuVz",
        "colab_type": "code",
        "outputId": "06198bc2-92cc-4921-f93c-0428afad98f5",
        "colab": {
          "base_uri": "https://localhost:8080/",
          "height": 118
        }
      },
      "source": [
        "data.dtypes"
      ],
      "execution_count": 5,
      "outputs": [
        {
          "output_type": "execute_result",
          "data": {
            "text/plain": [
              "deals_closed    float64\n",
              "good_cvs        float64\n",
              "signed_ndas     float64\n",
              "worked_jobs     float64\n",
              "payment         float64\n",
              "dtype: object"
            ]
          },
          "metadata": {
            "tags": []
          },
          "execution_count": 5
        }
      ]
    },
    {
      "cell_type": "code",
      "metadata": {
        "id": "Sv27Iz7h3x6N",
        "colab_type": "code",
        "colab": {
          "base_uri": "https://localhost:8080/",
          "height": 284
        },
        "outputId": "d47a3893-1371-4827-eb26-ffb072c3a77e"
      },
      "source": [
        "data.describe()"
      ],
      "execution_count": 20,
      "outputs": [
        {
          "output_type": "execute_result",
          "data": {
            "text/html": [
              "<div>\n",
              "<style scoped>\n",
              "    .dataframe tbody tr th:only-of-type {\n",
              "        vertical-align: middle;\n",
              "    }\n",
              "\n",
              "    .dataframe tbody tr th {\n",
              "        vertical-align: top;\n",
              "    }\n",
              "\n",
              "    .dataframe thead th {\n",
              "        text-align: right;\n",
              "    }\n",
              "</style>\n",
              "<table border=\"1\" class=\"dataframe\">\n",
              "  <thead>\n",
              "    <tr style=\"text-align: right;\">\n",
              "      <th></th>\n",
              "      <th>deals_closed</th>\n",
              "      <th>good_cvs</th>\n",
              "      <th>signed_ndas</th>\n",
              "      <th>worked_jobs</th>\n",
              "      <th>payment</th>\n",
              "    </tr>\n",
              "  </thead>\n",
              "  <tbody>\n",
              "    <tr>\n",
              "      <th>count</th>\n",
              "      <td>9.000000</td>\n",
              "      <td>9.000000</td>\n",
              "      <td>9.000000</td>\n",
              "      <td>9.000000</td>\n",
              "      <td>9.000000</td>\n",
              "    </tr>\n",
              "    <tr>\n",
              "      <th>mean</th>\n",
              "      <td>2.111111</td>\n",
              "      <td>17.000000</td>\n",
              "      <td>2.444444</td>\n",
              "      <td>8.222222</td>\n",
              "      <td>5.594444</td>\n",
              "    </tr>\n",
              "    <tr>\n",
              "      <th>std</th>\n",
              "      <td>1.763834</td>\n",
              "      <td>8.276473</td>\n",
              "      <td>1.589899</td>\n",
              "      <td>2.862594</td>\n",
              "      <td>2.888062</td>\n",
              "    </tr>\n",
              "    <tr>\n",
              "      <th>min</th>\n",
              "      <td>0.000000</td>\n",
              "      <td>4.000000</td>\n",
              "      <td>0.000000</td>\n",
              "      <td>3.000000</td>\n",
              "      <td>1.350000</td>\n",
              "    </tr>\n",
              "    <tr>\n",
              "      <th>25%</th>\n",
              "      <td>1.000000</td>\n",
              "      <td>10.000000</td>\n",
              "      <td>1.000000</td>\n",
              "      <td>7.000000</td>\n",
              "      <td>3.350000</td>\n",
              "    </tr>\n",
              "    <tr>\n",
              "      <th>50%</th>\n",
              "      <td>2.000000</td>\n",
              "      <td>20.000000</td>\n",
              "      <td>2.000000</td>\n",
              "      <td>10.000000</td>\n",
              "      <td>5.500000</td>\n",
              "    </tr>\n",
              "    <tr>\n",
              "      <th>75%</th>\n",
              "      <td>3.000000</td>\n",
              "      <td>20.000000</td>\n",
              "      <td>4.000000</td>\n",
              "      <td>10.000000</td>\n",
              "      <td>8.000000</td>\n",
              "    </tr>\n",
              "    <tr>\n",
              "      <th>max</th>\n",
              "      <td>5.000000</td>\n",
              "      <td>30.000000</td>\n",
              "      <td>4.000000</td>\n",
              "      <td>10.000000</td>\n",
              "      <td>9.600000</td>\n",
              "    </tr>\n",
              "  </tbody>\n",
              "</table>\n",
              "</div>"
            ],
            "text/plain": [
              "       deals_closed   good_cvs  signed_ndas  worked_jobs   payment\n",
              "count      9.000000   9.000000     9.000000     9.000000  9.000000\n",
              "mean       2.111111  17.000000     2.444444     8.222222  5.594444\n",
              "std        1.763834   8.276473     1.589899     2.862594  2.888062\n",
              "min        0.000000   4.000000     0.000000     3.000000  1.350000\n",
              "25%        1.000000  10.000000     1.000000     7.000000  3.350000\n",
              "50%        2.000000  20.000000     2.000000    10.000000  5.500000\n",
              "75%        3.000000  20.000000     4.000000    10.000000  8.000000\n",
              "max        5.000000  30.000000     4.000000    10.000000  9.600000"
            ]
          },
          "metadata": {
            "tags": []
          },
          "execution_count": 20
        }
      ]
    },
    {
      "cell_type": "code",
      "metadata": {
        "id": "g2NAbZYJsqHU",
        "colab_type": "code",
        "colab": {}
      },
      "source": [
        "class TrainingPlot(keras.callbacks.Callback):\n",
        "    \n",
        "    # This function is called when the training begins\n",
        "    def on_train_begin(self, logs={}):\n",
        "        # Initialize the lists for holding the logs, losses and accuracies\n",
        "        self.losses = []\n",
        "        #self.acc = []\n",
        "        #self.val_losses = []\n",
        "        #self.val_acc = []\n",
        "        self.logs = []\n",
        "    \n",
        "    # This function is called at the end of each epoch\n",
        "    def on_epoch_end(self, epoch, logs={}):\n",
        "        \n",
        "        # Append the logs, losses and accuracies to the lists\n",
        "        self.logs.append(logs)\n",
        "        self.losses.append(logs.get('loss'))\n",
        "        #self.acc.append(logs.get('acc'))\n",
        "        #self.val_losses.append(logs.get('val_loss'))\n",
        "        #self.val_acc.append(logs.get('val_acc'))\n",
        "        \n",
        "        # Before plotting ensure at least 2 epochs have passed\n",
        "        if len(self.losses) > 1:\n",
        "            \n",
        "            # Clear the previous plot\n",
        "            clear_output(wait=True)\n",
        "            N = np.arange(0, len(self.losses))\n",
        "            \n",
        "            # You can chose the style of your preference\n",
        "            # print(plt.style.available) to see the available options\n",
        "            plt.style.use(\"seaborn\")\n",
        "            \n",
        "            # Plot train loss, train acc, val loss and val acc against epochs passed\n",
        "            plt.figure()\n",
        "            plt.plot(N, self.losses, label = \"train_loss\")\n",
        "            #plt.plot(N, self.acc, label = \"train_acc\")\n",
        "            #plt.plot(N, self.val_losses, label = \"val_loss\")\n",
        "            #plt.plot(N, self.val_acc, label = \"val_acc\")\n",
        "            plt.title(\"Training Loss and Accuracy [Epoch {}]\".format(epoch))\n",
        "            plt.xlabel(\"Epoch #\")\n",
        "            plt.ylabel(\"Loss/Accuracy\")\n",
        "            plt.legend()\n",
        "            plt.show()\n",
        "\n",
        "plot_losses = TrainingPlot()"
      ],
      "execution_count": 0,
      "outputs": []
    },
    {
      "cell_type": "markdown",
      "metadata": {
        "id": "jCy21LR6I4Qk",
        "colab_type": "text"
      },
      "source": [
        "Define Keras Model"
      ]
    },
    {
      "cell_type": "code",
      "metadata": {
        "id": "GHKWs9GbZQ0_",
        "colab_type": "code",
        "outputId": "b56888c6-6b1d-46f1-ca02-b6255604f836",
        "colab": {
          "base_uri": "https://localhost:8080/",
          "height": 202
        }
      },
      "source": [
        "#model = tf.keras.Sequential([keras.layers.Dense(units=1, input_shape=[4])])\n",
        "#model.compile(optimizer='sgd', loss='mean_squared_error')\n",
        "\n",
        "model = tf.keras.Sequential()\n",
        "\n",
        "model.add(keras.layers.Dense(1, input_dim=4, activation='relu'))\n",
        "#model.add(keras.layers.Dense(1, kernel_initializer='normal'))\n",
        "\n",
        "sgd = tf.keras.optimizers.SGD(lr=0.01, decay=1e-6, momentum=0.9, nesterov=True)\n",
        "#sgd = optimizers.SGD(lr=0.01, decay=1e-6, momentum=0.9, nesterov=True)\n",
        "\n",
        "\n",
        "\n",
        "# Compile model\n",
        "model.compile(loss='mean_squared_error', optimizer=\"sgd\")\n",
        "print(model.summary())\n"
      ],
      "execution_count": 16,
      "outputs": [
        {
          "output_type": "stream",
          "text": [
            "Model: \"sequential_3\"\n",
            "_________________________________________________________________\n",
            "Layer (type)                 Output Shape              Param #   \n",
            "=================================================================\n",
            "dense_3 (Dense)              (None, 1)                 5         \n",
            "=================================================================\n",
            "Total params: 5\n",
            "Trainable params: 5\n",
            "Non-trainable params: 0\n",
            "_________________________________________________________________\n",
            "None\n"
          ],
          "name": "stdout"
        }
      ]
    },
    {
      "cell_type": "markdown",
      "metadata": {
        "id": "Kxk7bfVMaHu2",
        "colab_type": "text"
      },
      "source": [
        "Define input and output"
      ]
    },
    {
      "cell_type": "code",
      "metadata": {
        "id": "VIkj29GXaKsP",
        "colab_type": "code",
        "outputId": "df4c8171-2807-448e-b198-35a2da478ded",
        "colab": {
          "base_uri": "https://localhost:8080/",
          "height": 336
        }
      },
      "source": [
        "xs = data[[\"deals_closed\",\"good_cvs\",\"signed_ndas\",\"worked_jobs\"]].to_numpy()\n",
        "ys = data[[\"payment\"]].to_numpy()\n",
        "print(xs)\n",
        "print(\"---\")\n",
        "print(ys)"
      ],
      "execution_count": 17,
      "outputs": [
        {
          "output_type": "stream",
          "text": [
            "[[ 0.  4.  0.  3.]\n",
            " [ 0.  7.  1.  4.]\n",
            " [ 1. 10.  1.  7.]\n",
            " [ 2. 20.  2. 10.]\n",
            " [ 3. 20.  2. 10.]\n",
            " [ 4. 20.  4. 10.]\n",
            " [ 5. 22.  4. 10.]\n",
            " [ 1. 20.  4. 10.]\n",
            " [ 3. 30.  4. 10.]]\n",
            "---\n",
            "[[1.35]\n",
            " [2.05]\n",
            " [3.35]\n",
            " [5.5 ]\n",
            " [6.5 ]\n",
            " [8.5 ]\n",
            " [9.6 ]\n",
            " [5.5 ]\n",
            " [8.  ]]\n"
          ],
          "name": "stdout"
        }
      ]
    },
    {
      "cell_type": "markdown",
      "metadata": {
        "id": "TGy-tptT0UzS",
        "colab_type": "text"
      },
      "source": [
        "Are Xs really independent?"
      ]
    },
    {
      "cell_type": "markdown",
      "metadata": {
        "id": "8l9JD6AAZwC3",
        "colab_type": "text"
      },
      "source": [
        "Train Model"
      ]
    },
    {
      "cell_type": "code",
      "metadata": {
        "id": "HMpVhGBfaL4Y",
        "colab_type": "code",
        "outputId": "0d90384f-d3da-4fe6-ef4a-a8c9dbdec1eb",
        "colab": {
          "base_uri": "https://localhost:8080/",
          "height": 410
        }
      },
      "source": [
        "model.fit(xs, ys, epochs=200, callbacks=[plot_losses])"
      ],
      "execution_count": 18,
      "outputs": [
        {
          "output_type": "display_data",
          "data": {
            "image/png": "[encoded data removed]",
            "text/plain": [
              "<Figure size 576x396 with 1 Axes>"
            ]
          },
          "metadata": {
            "tags": []
          }
        },
        {
          "output_type": "stream",
          "text": [
            "\b\b\b\b\b\b\b\b\b\b\b\b\b\b\b\b\b\b\b\b\b\b\b\b\b\b\b\b\b\b\b\b\b\b\b\b\b\b\b\b\b\b\b\b\b\b\b\b\b\b\b\b\b\b\b\b\b\b\b\b\b\b\r1/1 [==============================] - 0s 210ms/step - loss: 38.7119\n"
          ],
          "name": "stdout"
        },
        {
          "output_type": "execute_result",
          "data": {
            "text/plain": [
              "<tensorflow.python.keras.callbacks.History at 0x7feafab00780>"
            ]
          },
          "metadata": {
            "tags": []
          },
          "execution_count": 18
        }
      ]
    },
    {
      "cell_type": "code",
      "metadata": {
        "id": "ORnhf7ZfMpJt",
        "colab_type": "code",
        "outputId": "f807ab97-099a-4d9f-aa42-68682aabaab2",
        "colab": {
          "base_uri": "https://localhost:8080/",
          "height": 84
        }
      },
      "source": [
        "model.get_weights()"
      ],
      "execution_count": 12,
      "outputs": [
        {
          "output_type": "execute_result",
          "data": {
            "text/plain": [
              "[array([[ 0.6233982 ],\n",
              "        [ 0.05459952],\n",
              "        [ 0.84512174],\n",
              "        [-0.9974995 ]], dtype=float32), array([0.], dtype=float32)]"
            ]
          },
          "metadata": {
            "tags": []
          },
          "execution_count": 12
        }
      ]
    },
    {
      "cell_type": "markdown",
      "metadata": {
        "id": "1PVn0YW6iAwZ",
        "colab_type": "text"
      },
      "source": [
        "Load Weights"
      ]
    },
    {
      "cell_type": "code",
      "metadata": {
        "id": "W2KdEuzOiDfZ",
        "colab_type": "code",
        "colab": {}
      },
      "source": [
        "ideal = [np.array([[ 1.0  ],\n",
        "        [0.05],\n",
        "        [ 0.5],\n",
        "        [ 0.05]], dtype=\"float32\"), np.array([1.0], dtype=\"float32\")]\n",
        "model.set_weights(ideal)"
      ],
      "execution_count": 0,
      "outputs": []
    },
    {
      "cell_type": "code",
      "metadata": {
        "id": "WMhZ5dpnihTE",
        "colab_type": "code",
        "outputId": "2d63a836-c8e1-477c-e6cc-3c1657d9a9ec",
        "colab": {
          "base_uri": "https://localhost:8080/",
          "height": 118
        }
      },
      "source": [
        "print(model.predict([[ 0.0,4.0,0.0,3.0]])) #1.35\n",
        "print(model.predict([[ 0.0,7.0,1.0,4.0]])) #2.05\n",
        "print(model.predict([[ 1.0,10.0,1.0,7.0]])) #3.35\n",
        "print(model.predict([[ 2.0,20.0,2.0,10.0]])) #5.5\n",
        "print(model.predict([[ 4.0,20.0,4.0,10.0]])) #8.5\n",
        "print(model.predict([[ 3.0,30.0,4.0,10.0]])) #8"
      ],
      "execution_count": 14,
      "outputs": [
        {
          "output_type": "stream",
          "text": [
            "[[1.35]]\n",
            "[[2.0500002]]\n",
            "[[3.35]]\n",
            "[[5.5]]\n",
            "[[8.5]]\n",
            "[[8.]]\n"
          ],
          "name": "stdout"
        }
      ]
    }
  ]
}